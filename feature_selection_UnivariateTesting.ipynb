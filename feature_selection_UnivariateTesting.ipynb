{
 "cells": [
  {
   "cell_type": "markdown",
   "metadata": {},
   "source": [
    "## <span style=\"color:red\">Feature selction - Univarite Testing </span>\n"
   ]
  },
  {
   "cell_type": "markdown",
   "metadata": {},
   "source": [
    "**Univariate** Feature Selection or Testing applies statistical tests to find relationships between the output variable and each input variable in isolation. Tests are conducted one input variable at a time. The tests depends whether you are running a regression task or a classification task"
   ]
  },
  {
   "cell_type": "markdown",
   "metadata": {},
   "source": [
    "### Regression Task\n",
    "\n",
    "In a regression task, you may be provided with an f-score and a p-value for each variable and gives you a view of the statistical significance of their relationships between the input and the output variables. This will help you assess how confident you should be with the variables you have used in your model."
   ]
  },
  {
   "cell_type": "markdown",
   "metadata": {},
   "source": [
    "### Univariate Testing: Regression Task Code Template\n",
    "\n"
   ]
  },
  {
   "cell_type": "code",
   "execution_count": null,
   "metadata": {},
   "outputs": [],
   "source": [
    "# import packages\n",
    "import pandas as pd\n",
    "\n",
    "from sklearn.feature_selection import SelectKBest, f_regression\n",
    "\n",
    "# import data\n",
    "my_df = pd.read_csv(\"feature_selection_sample_data.csv\")\n",
    "\n",
    "X = my_df.drop([\"output\"], axis = 1)\n",
    "y = my_df[\"output\"]\n",
    "\n",
    "feature_selector = SelectKBest(f_regression, k = \"all\")\n",
    "fit = feature_selector.fit(X,y)\n",
    "\n",
    "p_values = pd.DataFrame(fit.pvalues_)\n",
    "scores = pd.DataFrame(fit.scores_)\n",
    "input_variable_names = pd.DataFrame(X.columns)\n",
    "summary_stats = pd.concat([input_variable_names, p_values, scores], axis = 1)\n",
    "summary_stats.columns = [\"input_variable\", \"p_value\", \"f_score\"]\n",
    "summary_stats.sort_values(by = \"p_value\", inplace = True)\n",
    "\n",
    "p_value_threshold = 0.05\n",
    "score_threshold = 5\n",
    "\n",
    "selected_variables = summary_stats.loc[(summary_stats[\"f_score\"] >= score_threshold) &\n",
    "                                       (summary_stats[\"p_value\"] <= p_value_threshold)]\n",
    "selected_variables = selected_variables[\"input_variable\"].tolist()\n",
    "X_new = X[selected_variables]"
   ]
  },
  {
   "cell_type": "markdown",
   "metadata": {},
   "source": [
    "### Classification Task\n",
    "Depending on what test you use, you might be provided a chi-square score and a p-value for each variable. Again, this gives you a view of the statistical significance of their relationships between the input variables and the output variables."
   ]
  },
  {
   "cell_type": "markdown",
   "metadata": {},
   "source": [
    "In either Regression or Classification tasks, this will give you a basic information around which variables may be more important than the others and you could also put a threshold for the statistical test scores, the p-value or both to say that you only want to include variables that appear to have a reliable relationship with the output variable that you are looking to predict.\n",
    "\n",
    "Note: The only downside of univariate testing is that it only considers variables in isolation. It doesn’t account variables that are interacting with each other."
   ]
  },
  {
   "cell_type": "markdown",
   "metadata": {},
   "source": [
    "### Univariate Testing: Classification Task Code Template"
   ]
  },
  {
   "cell_type": "code",
   "execution_count": 5,
   "metadata": {},
   "outputs": [],
   "source": [
    "# import packages\n",
    "import pandas as pd\n",
    "\n",
    "# import data\n",
    "my_df = pd.read_csv(\"german_credit.csv\")\n",
    "from sklearn.feature_selection import SelectKBest, chi2\n",
    "\n",
    "X = my_df.drop([\"Creditability\"], axis = 1)\n",
    "y = my_df[\"Creditability\"]\n",
    "\n",
    "feature_selector = SelectKBest(chi2, k = \"all\")\n",
    "fit = feature_selector.fit(X,y)\n",
    "\n",
    "p_values = pd.DataFrame(fit.pvalues_)\n",
    "scores = pd.DataFrame(fit.scores_)\n",
    "input_variable_names = pd.DataFrame(X.columns)\n",
    "summary_stats = pd.concat([input_variable_names, p_values, scores], axis = 1)\n",
    "summary_stats.columns = [\"input_variable\", \"p_value\", \"chi2_score\"]\n",
    "summary_stats.sort_values(by = \"p_value\", inplace = True)\n",
    "\n",
    "p_value_threshold = 0.05\n",
    "score_threshold = 5\n",
    "\n",
    "selected_variables = summary_stats.loc[(summary_stats[\"chi2_score\"] >= score_threshold) &\n",
    "                                       (summary_stats[\"p_value\"] <= p_value_threshold)]\n",
    "selected_variables = selected_variables[\"input_variable\"].tolist()\n",
    "X_new = X[selected_variables]"
   ]
  },
  {
   "cell_type": "markdown",
   "metadata": {},
   "source": [
    "-- the above code doesn't give result why?--"
   ]
  },
  {
   "cell_type": "markdown",
   "metadata": {},
   "source": [
    "-- Your code appears to be set up correctly for performing chi-squared feature selection, and there might be a few reasons why it doesn't produce an error or result:\n",
    "\n",
    "Threshold Values: The thresholds you've set for score_threshold and p_value_threshold may be too strict, leading to no features meeting the criteria. You might want to adjust these thresholds based on the characteristics of your data.\n",
    "\n",
    "Variable Types: Ensure that the target variable y is categorical, as the chi-squared test is typically used for categorical target variables.\n",
    "\n",
    "Feature Types: Chi-squared is typically applied to categorical features. If your dataset contains numerical features, you may need to discretize them or convert them into categorical variables.\n",
    "\n",
    "Here's a modified version of your code with some additional comments and an example of how you might set the threshold values:\n",
    "\n",
    "python"
   ]
  },
  {
   "cell_type": "code",
   "execution_count": 6,
   "metadata": {},
   "outputs": [
    {
     "name": "stdout",
     "output_type": "stream",
     "text": [
      "Selected Variables:\n",
      "                       input_variable       p_value    chi2_score\n",
      "4                       Credit Amount  0.000000e+00  58264.415475\n",
      "1          Duration of Credit (month)  8.637197e-72    321.030795\n",
      "0                     Account Balance  3.702000e-18     75.474269\n",
      "5                Value Savings/Stocks  7.304944e-10     37.937451\n",
      "12                        Age (years)  3.941008e-08     30.178268\n",
      "2   Payment Status of Previous Credit  9.128229e-07     24.103752\n",
      "11      Most valuable available asset  2.050765e-03      9.503534\n",
      "6        Length of current employment  1.602710e-02      5.799899\n"
     ]
    }
   ],
   "source": [
    "import pandas as pd\n",
    "from sklearn.feature_selection import SelectKBest, chi2\n",
    "\n",
    "# Import data\n",
    "my_df = pd.read_csv(\"german_credit.csv\")\n",
    "\n",
    "# Extract features and target variable\n",
    "X = my_df.drop([\"Creditability\"], axis=1)\n",
    "y = my_df[\"Creditability\"]\n",
    "\n",
    "# Perform chi-squared feature selection\n",
    "feature_selector = SelectKBest(chi2, k=\"all\")\n",
    "fit = feature_selector.fit(X, y)\n",
    "\n",
    "# Create a DataFrame with the results\n",
    "p_values = pd.DataFrame(fit.pvalues_)\n",
    "scores = pd.DataFrame(fit.scores_)\n",
    "input_variable_names = pd.DataFrame(X.columns)\n",
    "summary_stats = pd.concat([input_variable_names, p_values, scores], axis=1)\n",
    "summary_stats.columns = [\"input_variable\", \"p_value\", \"chi2_score\"]\n",
    "summary_stats.sort_values(by=\"p_value\", inplace=True)\n",
    "\n",
    "# Example threshold values\n",
    "p_value_threshold = 0.05\n",
    "score_threshold = 5\n",
    "\n",
    "# Select variables based on thresholds\n",
    "selected_variables = summary_stats.loc[(summary_stats[\"chi2_score\"] >= score_threshold) &\n",
    "                                       (summary_stats[\"p_value\"] <= p_value_threshold)]\n",
    "\n",
    "# Display the selected variables\n",
    "print(\"Selected Variables:\")\n",
    "print(selected_variables)\n",
    "\n",
    "# Get the list of selected variable names\n",
    "selected_variable_names = selected_variables[\"input_variable\"].tolist()\n",
    "\n",
    "# Create a new DataFrame with only the selected variables\n",
    "X_new = X[selected_variable_names]\n"
   ]
  }
 ],
 "metadata": {
  "kernelspec": {
   "display_name": "Python 3",
   "language": "python",
   "name": "python3"
  },
  "language_info": {
   "codemirror_mode": {
    "name": "ipython",
    "version": 3
   },
   "file_extension": ".py",
   "mimetype": "text/x-python",
   "name": "python",
   "nbconvert_exporter": "python",
   "pygments_lexer": "ipython3",
   "version": "3.11.4"
  }
 },
 "nbformat": 4,
 "nbformat_minor": 2
}
